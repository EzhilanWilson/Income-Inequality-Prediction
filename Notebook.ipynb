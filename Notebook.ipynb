{
 "cells": [
  {
   "cell_type": "code",
   "execution_count": null,
   "metadata": {},
   "outputs": [],
   "source": [
    "import pandas as pd\n",
    "import numpy as np\n",
    "import matplotlib.pyplot as plt\n",
    "import seaborn as sns\n",
    "from sklearn.model_selection import train_test_split\n",
    "from sklearn.metrics import f1_score,accuracy_score,classification_report\n",
    "from sklearn.ensemble import RandomForestClassifier\n",
    "from xgboost import XGBClassifier\n",
    "import squarify\n",
    "import warnings\n",
    "warnings.filterwarnings('ignore')\n",
    "pd.pandas.set_option('display.max_columns',None)\n",
    "import os\n"
   ]
  },
  {
   "cell_type": "code",
   "execution_count": null,
   "metadata": {},
   "outputs": [],
   "source": [
    "df = pd.read_csv(\"E:\\Income-Inequality-Prediction\\DATASET\\data.csv\")\n",
    "df"
   ]
  },
  {
   "cell_type": "markdown",
   "metadata": {},
   "source": [
    "EDA"
   ]
  },
  {
   "cell_type": "code",
   "execution_count": null,
   "metadata": {},
   "outputs": [],
   "source": [
    "numerical_feature = [feature for feature in df.columns if df[feature].dtypes != 'O']\n",
    "discrete_feature=[feature for feature in numerical_feature if len(df[feature].unique())<25]\n",
    "continuous_feature = [feature for feature in numerical_feature if feature not in discrete_feature]\n",
    "categorical_feature = [feature for feature in df.columns if feature not in numerical_feature]\n",
    "\n",
    "print(\"Numerical Features Count {}\".format(len(numerical_feature)))\n",
    "print(\"Discrete feature Count {}\".format(len(discrete_feature)))\n",
    "print(\"Continuous feature Count {}\".format(len(continuous_feature)))\n",
    "print(\"Categorical feature Count {}\".format(len(categorical_feature)))"
   ]
  },
  {
   "cell_type": "markdown",
   "metadata": {},
   "source": [
    "Data Preprocessing"
   ]
  },
  {
   "cell_type": "code",
   "execution_count": null,
   "metadata": {},
   "outputs": [],
   "source": [
    "round((df.isna().sum() / df.shape[0]) * 100, 2).astype(str) + ' %'"
   ]
  },
  {
   "cell_type": "code",
   "execution_count": null,
   "metadata": {},
   "outputs": [],
   "source": [
    "df.replace({' ?':np.nan},inplace=True)"
   ]
  },
  {
   "cell_type": "code",
   "execution_count": null,
   "metadata": {},
   "outputs": [],
   "source": [
    "# dropping columns with too much nan values i.e more than 50%\n",
    "nan_cols_drop  = []\n",
    "for cols in df.columns:\n",
    "    if df[cols].isna().sum()/df.shape[0] >0.5:\n",
    "        nan_cols_drop.append(cols)\n",
    "\n",
    "print(nan_cols_drop)"
   ]
  },
  {
   "cell_type": "code",
   "execution_count": null,
   "metadata": {},
   "outputs": [],
   "source": [
    "round((df.isna().sum() / df.shape[0]) * 100, 2).astype(str) + ' %'"
   ]
  },
  {
   "cell_type": "code",
   "execution_count": null,
   "metadata": {},
   "outputs": [],
   "source": [
    "df = df.drop(['country_of_birth_own','country_of_birth_father','country_of_birth_mother'],axis=1)"
   ]
  },
  {
   "cell_type": "code",
   "execution_count": null,
   "metadata": {},
   "outputs": [],
   "source": [
    "df.plot(kind=\"box\", \n",
    "                vert=True,\n",
    "                subplots=True, \n",
    "                layout = (6,5), \n",
    "                figsize=(40,40), \n",
    "                sharex=False, \n",
    "                sharey=False);"
   ]
  },
  {
   "cell_type": "code",
   "execution_count": null,
   "metadata": {},
   "outputs": [],
   "source": [
    "for i in ['wage_per_hour','gains','losses','stocks_status','importance_of_record']:\n",
    "    \n",
    "    IQR=df[i].quantile(0.75)-df[i].quantile(0.25)\n",
    "    lower_bridge=df[i].quantile(0.25)-(IQR*1.5)\n",
    "    upper_bridge=df[i].quantile(0.75)+(IQR*1.5)\n",
    "    \n",
    "    outs = []\n",
    "    \n",
    "    for j in df[i]:\n",
    "        if j<lower_bridge:\n",
    "            outs.append(j)\n",
    "    \n",
    "    for k in df[i]:\n",
    "        if k>upper_bridge:\n",
    "            outs.append(k)\n",
    "\n",
    "    print(f'The percentage of outliers in {i}:',(len(outs)/len(df)*100),'%')"
   ]
  },
  {
   "cell_type": "code",
   "execution_count": null,
   "metadata": {},
   "outputs": [],
   "source": [
    "df.head()"
   ]
  },
  {
   "cell_type": "code",
   "execution_count": null,
   "metadata": {},
   "outputs": [],
   "source": [
    "df.drop(columns=['household_stat'],axis=1,inplace=True)"
   ]
  },
  {
   "cell_type": "markdown",
   "metadata": {},
   "source": [
    "Fixing imbalanced dataset using Oversampling"
   ]
  },
  {
   "cell_type": "code",
   "execution_count": null,
   "metadata": {},
   "outputs": [],
   "source": [
    "x,y = df.drop(['ID','income_above_limit'],axis=1),df['income_above_limit']"
   ]
  },
  {
   "cell_type": "code",
   "execution_count": null,
   "metadata": {},
   "outputs": [],
   "source": [
    "from imblearn.over_sampling import RandomOverSampler\n",
    "ros = RandomOverSampler(random_state=42)\n",
    "X_random_resampled, Y_random_resampled = ros.fit_resample(x,y)"
   ]
  },
  {
   "cell_type": "code",
   "execution_count": null,
   "metadata": {},
   "outputs": [],
   "source": [
    "print('The class Imbalance in the data is given below')\n",
    "print(Y_random_resampled.value_counts(),'\\n')\n",
    "print('The class imbalance in terms of percentage is given below ')\n",
    "print(f\"{Y_random_resampled.value_counts(normalize=True)*100}\")"
   ]
  },
  {
   "cell_type": "code",
   "execution_count": null,
   "metadata": {},
   "outputs": [],
   "source": [
    "X_train, X_test, Y_train, Y_test = train_test_split(X_random_resampled, Y_random_resampled, test_size=0.2, random_state=42)\n",
    "\n",
    "print(\"X_train shape:\", X_train.shape)\n",
    "print(\"X_test shape:\", X_test.shape)\n",
    "print(\"Y_train shape:\", Y_train.shape)\n",
    "print(\"Y_test shape:\", Y_test.shape)"
   ]
  },
  {
   "cell_type": "code",
   "execution_count": null,
   "metadata": {},
   "outputs": [],
   "source": [
    "X_train.reset_index(drop=True,inplace=True)\n",
    "X_train.head()"
   ]
  },
  {
   "cell_type": "code",
   "execution_count": null,
   "metadata": {},
   "outputs": [],
   "source": [
    "X_test.reset_index(drop=True,inplace=True)\n",
    "X_test.head()"
   ]
  },
  {
   "cell_type": "code",
   "execution_count": null,
   "metadata": {},
   "outputs": [],
   "source": [
    "from sklearn.preprocessing import OneHotEncoder\n",
    "\n",
    "columns_to_encode = ['gender','education','marital_status','race','is_hispanic','employment_commitment','industry_code_main',\n",
    "                     'household_summary','tax_status','citizenship']\n",
    "\n",
    "columns_to_keep = X_train.drop(columns_to_encode,axis=1).columns\n",
    "\n",
    "encoder = OneHotEncoder(sparse_output=False,handle_unknown='ignore')\n",
    "\n",
    "encoded_columns = encoder.fit_transform(X_train[columns_to_encode])\n",
    "\n",
    "encoded_df = pd.DataFrame(encoded_columns, columns=encoder.get_feature_names_out(columns_to_encode))\n",
    "\n",
    "X_train_encoded = pd.concat([encoded_df, X_train[columns_to_keep]], axis=1)"
   ]
  },
  {
   "cell_type": "markdown",
   "metadata": {},
   "source": [
    "Baseline Modelling"
   ]
  },
  {
   "cell_type": "code",
   "execution_count": null,
   "metadata": {},
   "outputs": [],
   "source": [
    "ran_for = RandomForestClassifier(random_state=42)\n",
    "ran_for.fit(X_train_encoded, Y_train)\n",
    "\n",
    "Y_pred_ran_for = ran_for.predict(X_test_encoded)\n",
    "\n",
    "print('Random Forest Classifier:')\n",
    "print('F1 score:', round(f1_score(Y_test, Y_pred_ran_for), 2))\n",
    "\n",
    "print(classification_report(Y_test, Y_pred_ran_for))"
   ]
  },
  {
   "cell_type": "code",
   "execution_count": null,
   "metadata": {},
   "outputs": [],
   "source": [
    "xgb = XGBClassifier()\n",
    "xgb.fit(X_train_encoded, Y_train)\n",
    "\n",
    "Y_pred_xgb = xgb.predict(X_test_encoded)\n",
    "\n",
    "print('XGB Classifier:')\n",
    "print('F1 score:', round(f1_score(Y_test, Y_pred_xgb), 2))\n",
    "\n",
    "print(classification_report(Y_test, Y_pred_xgb))"
   ]
  }
 ],
 "metadata": {
  "language_info": {
   "name": "python"
  }
 },
 "nbformat": 4,
 "nbformat_minor": 2
}
